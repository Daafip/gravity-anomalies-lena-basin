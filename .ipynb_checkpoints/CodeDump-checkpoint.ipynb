{
 "cells": [
  {
   "cell_type": "markdown",
   "id": "3a12c9b0-0bdc-40ac-877a-a2d88b66b0f5",
   "metadata": {},
   "source": [
    "alternative plot"
   ]
  },
  {
   "cell_type": "code",
   "execution_count": 1,
   "id": "cc4c7d52-2364-43bb-baea-5448eefe530c",
   "metadata": {},
   "outputs": [],
   "source": [
    "# # lambda_min=-180\n",
    "# # lambda_max=180\n",
    "# # lat_min=-88\n",
    "# # lat_max=88\n",
    "# lambda_min=90\n",
    "# lambda_max=150\n",
    "# lat_min=50\n",
    "# lat_max=80\n",
    "# latitude = np.pi/2 - theta\n",
    "\n",
    "# i = 0\n",
    "# fig1, ax1 = plt.subplots(figsize=(12,5))\n",
    "# im1 = ax1.imshow(store_ewh[i], interpolation='bilinear',\n",
    "#                 origin='lower', extent=[lambda_min, lambda_max, lat_min, lat_max])\n",
    "\n",
    "# outline.plot(ax=ax1, edgecolor=\"C3\", facecolor=\"None\")\n",
    "# main_rivers.plot(ax=ax1, color=\"lightskyblue\",alpha=0.6,lw=1.5)\n",
    "\n",
    "# bounds = (ax1.get_xlim()[0], ax1.get_ylim()[0], ax1.get_xlim()[1], ax1.get_ylim()[1])\n",
    "# coast.plot(ax=ax1,color='k',zorder=1)\n",
    "# ax1.set_xlim((bounds[0],bounds[2]))\n",
    "# ax1.set_ylim((bounds[1],bounds[3]))\n",
    "\n",
    "# ax1.set(title=f'Change in mass anomalies in between {grace_names[i]} & {grace_names[i+1]} (m)',xlabel='Longitude', ylabel='Latitude')\n",
    "# fig1.colorbar(im1, ax=ax1, fraction=0.2, shrink=0.6,label=\"$\\delta h_w (m)$\")"
   ]
  },
  {
   "cell_type": "markdown",
   "id": "58227995-e134-4c06-8850-38c4a5207aef",
   "metadata": {},
   "source": [
    "old theta"
   ]
  },
  {
   "cell_type": "code",
   "execution_count": null,
   "id": "fe5400f8-97c9-4be9-9601-6d32eaced5c8",
   "metadata": {},
   "outputs": [],
   "source": [
    "# _lambda = np.pi/180 * np.array(range(0,364,4)) - np.pi\n",
    "# theta = np.pi - np.pi/180 * np.array(range(2, 179 + 1,4))\n",
    "# print('theta=',theta/np.pi*180)"
   ]
  },
  {
   "cell_type": "markdown",
   "id": "9c18809e-8bcc-41f1-994e-8dedcabe8d6c",
   "metadata": {},
   "source": [
    "Old read data. use delim =\"\\s+\""
   ]
  },
  {
   "cell_type": "code",
   "execution_count": null,
   "id": "6d8d2506-3bc5-4e7c-9e65-b6d15fa30e59",
   "metadata": {},
   "outputs": [],
   "source": [
    "# fname_stoke_coeff2 = f'Data\\\\Grace\\\\degree2_stokes_coeff.txt'\n",
    "\n",
    "# # pd.read_csv didnt work so must read 'manually'\n",
    "# reach_end_of_head = False\n",
    "# list_lines = []\n",
    "# with open(fname_stoke_coeff2) as fin:\n",
    "#     for line in fin:\n",
    "#         line = line.strip()\n",
    "#         if not reach_end_of_head:\n",
    "#             if line.startswith(\"Product:\"):\n",
    "#                 reach_end_of_head = True\n",
    "#         else:\n",
    "#             line = line.split(' ')\n",
    "#             line = np.array(line)\n",
    "#             line = line[line!=\" \"]\n",
    "#             line = line[line!=\"\"]\n",
    "#             list_lines.append(line)\n",
    "# arr_lines = np.array(list_lines)"
   ]
  }
 ],
 "metadata": {
  "kernelspec": {
   "display_name": "Python 3 (ipykernel)",
   "language": "python",
   "name": "python3"
  },
  "language_info": {
   "codemirror_mode": {
    "name": "ipython",
    "version": 3
   },
   "file_extension": ".py",
   "mimetype": "text/x-python",
   "name": "python",
   "nbconvert_exporter": "python",
   "pygments_lexer": "ipython3",
   "version": "3.11.3"
  }
 },
 "nbformat": 4,
 "nbformat_minor": 5
}
